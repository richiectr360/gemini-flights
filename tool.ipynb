{
 "cells": [
  {
   "cell_type": "code",
   "execution_count": 1,
   "metadata": {},
   "outputs": [],
   "source": [
    "import vertexai\n",
    "import streamlit as st\n",
    "from vertexai.preview import generative_models\n",
    "from vertexai.preview.generative_models import GenerativeModel, Tool, Part, Content, ChatSession"
   ]
  },
  {
   "cell_type": "code",
   "execution_count": null,
   "metadata": {},
   "outputs": [],
   "source": [
    "project = \"sample-gemini\"\n",
    "vertexai.init(project = project)"
   ]
  },
  {
   "cell_type": "code",
   "execution_count": null,
   "metadata": {},
   "outputs": [],
   "source": [
    "# Declare Tool\n",
    "get_search_flights = generative_models.FunctionDeclaration(\n",
    "    name=\"get_search_flights\",\n",
    "    description=\"Tool for searching a flight with origin, destination, and departure date\",\n",
    "    parameters={\n",
    "        \"type\": \"object\",\n",
    "        \"properties\": {\n",
    "            \"origin\": {\n",
    "                \"type\": \"string\",\n",
    "                \"description\": \"The airport of departure for the flight given in airport code such as LAX, SFO, BOS, etc.\"\n",
    "            },\n",
    "            \"destination\": {\n",
    "                \"type\": \"string\",\n",
    "                \"description\": \"The airport of destination for the flight given in airport code such as LAX, SFO, BOS, etc.\"\n",
    "            },\n",
    "            \"departure_date\": {\n",
    "                \"type\": \"string\",\n",
    "                \"format\": \"date\",\n",
    "                \"description\": \"The date of departure for the flight in YYYY-MM-DD format\"\n",
    "            },\n",
    "        },\n",
    "        \"required\": [\n",
    "            \"origin\",\n",
    "            \"destination\",\n",
    "            \"departure_date\"\n",
    "        ]\n",
    "    },\n",
    ")\n",
    "\n",
    "# Instantiate tool and model with tools\n",
    "search_tool = generative_models.Tool(\n",
    "    function_declarations=[get_search_flights],\n",
    ")"
   ]
  },
  {
   "cell_type": "code",
   "execution_count": null,
   "metadata": {},
   "outputs": [],
   "source": [
    "config = generative_models.GenerationConfig(temperature=0.4)\n",
    "# Load model with config\n",
    "model = GenerativeModel(\n",
    "    \"gemini-pro\",\n",
    "    tools = [search_tool],\n",
    "    generation_config = config\n",
    ")"
   ]
  }
 ],
 "metadata": {
  "kernelspec": {
   "display_name": "env",
   "language": "python",
   "name": "python3"
  },
  "language_info": {
   "codemirror_mode": {
    "name": "ipython",
    "version": 3
   },
   "file_extension": ".py",
   "mimetype": "text/x-python",
   "name": "python",
   "nbconvert_exporter": "python",
   "pygments_lexer": "ipython3",
   "version": "3.10.7"
  }
 },
 "nbformat": 4,
 "nbformat_minor": 2
}
